{
 "cells": [
  {
   "cell_type": "markdown",
   "metadata": {
    "collapsed": true,
    "pycharm": {
     "name": "#%% md\n"
    }
   },
   "source": [
    "# Stitching Notebook"
   ]
  },
  {
   "cell_type": "code",
   "execution_count": 1,
   "outputs": [],
   "source": [
    "## Import library\n",
    "\n",
    "import numpy as np\n",
    "import xarray as xr\n",
    "import pandas as pd\n",
    "import matplotlib.pylab as plt\n",
    "%matplotlib inline\n",
    "import dask.dataframe as da"
   ],
   "metadata": {
    "collapsed": false,
    "pycharm": {
     "name": "#%%\n"
    }
   }
  },
  {
   "cell_type": "code",
   "execution_count": 2,
   "outputs": [],
   "source": [
    "filename='pv_grid_variables.xlsx'\n",
    "directory=''"
   ],
   "metadata": {
    "collapsed": false,
    "pycharm": {
     "name": "#%%\n"
    }
   }
  },
  {
   "cell_type": "code",
   "execution_count": 3,
   "outputs": [],
   "source": [
    "## Get pv related variables from filename\n",
    "df_data = pd.read_excel(directory+filename,sheet_name='coords')"
   ],
   "metadata": {
    "collapsed": false,
    "pycharm": {
     "name": "#%%\n"
    }
   }
  },
  {
   "cell_type": "code",
   "execution_count": 4,
   "outputs": [],
   "source": [
    "## Construct unit and coord dictionaries with units and dimensions\n",
    "unit_dict = dict(zip(df_data['var_name'],df_data['units']))\n",
    "df_coord = pd.read_excel(directory + filename, sheet_name='coords')\n",
    "unit_dict.update(dict(zip(df_coord['var_name'],df_coord['units'])))\n",
    "num_dict = dict(zip(df_data['var_name'],df_data['number']))"
   ],
   "metadata": {
    "collapsed": false,
    "pycharm": {
     "name": "#%%\n"
    }
   }
  },
  {
   "cell_type": "code",
   "execution_count": 5,
   "outputs": [],
   "source": [
    "## Initialize encoding dictionary\n",
    "encoding_dict = {}\n",
    "encoding_val = {'zlib':True,'_FillValue':0.0}"
   ],
   "metadata": {
    "collapsed": false,
    "pycharm": {
     "name": "#%%\n"
    }
   }
  },
  {
   "cell_type": "code",
   "execution_count": 6,
   "outputs": [],
   "source": [
    "grid =  xr.Dataset()\n",
    "filename_netCDF = '__J9GOH9T31G_singlePoint.nc'\n",
    "sample = xr.open_dataset(filename_netCDF, decode_cf=False)\n",
    "ori = ['lat', 'lon', 'ls', 'hr']\n",
    "ori_dict = dict(zip(ori,[np.arange(-90,91,10), np.arange(-180,181,10), np.array([0,180]), np.array([10])]))\n",
    "# ori_dict = dict(zip(ori,[np.arange(-90,91,10), np.arange(-180,181,10), np.arange(0,360,15), np.arange(0,25,2)]))\n",
    "\n",
    "for vari in df_coord['var_name']:\n",
    "    if vari in ori:\n",
    "        grid[vari] = ori_dict[vari]\n",
    "    else:\n",
    "        grid[vari] = sample.coords[vari].values\n",
    "    grid.coords[vari].attrs['units'] = unit_dict[vari]\n",
    "    encoding_dict[vari] = encoding_val\n",
    "\n",
    "# test = grid.to_dask_dataframe()"
   ],
   "metadata": {
    "collapsed": false,
    "pycharm": {
     "name": "#%%\n"
    }
   }
  },
  {
   "cell_type": "code",
   "execution_count": 7,
   "outputs": [],
   "source": [
    "df_data = pd.read_excel(directory+filename,sheet_name='data')\n",
    "unit_dict = dict(zip(df_data['var_name'],df_data['units']))\n",
    "coord_dict = dict(zip(df_data['var_name'],df_data['dims']))\n",
    "for vari in df_data['var_name']:\n",
    "    coords = coord_dict[vari].split(',')\n",
    "    zi = [len(grid.coords[i]) for i in coords]\n",
    "    grid[vari] = (tuple(coords), np.zeros(zi,dtype=np.uint8))\n",
    "    grid[vari].attrs['units'] = unit_dict[vari]\n",
    "    encoding_dict[vari] = encoding_val"
   ],
   "metadata": {
    "collapsed": false,
    "pycharm": {
     "name": "#%%\n"
    }
   }
  },
  {
   "cell_type": "code",
   "execution_count": 8,
   "outputs": [],
   "source": [
    "# da = grid.to_dask_dataframe()\n",
    "\n",
    "grid.to_netcdf('PV_grid2.nc',encoding=encoding_dict)\n",
    "\n",
    "# grid.to_hdf5('PV_grid2.hdf5',encoding=encoding_dict)"
   ],
   "metadata": {
    "collapsed": false,
    "pycharm": {
     "name": "#%%\n"
    }
   }
  },
  {
   "cell_type": "code",
   "execution_count": 9,
   "outputs": [],
   "source": [
    "# grid.chunk()\n",
    "#\n",
    "# grid.to_netcdf('PV_grid_test2.nc',encoding=encoding_dict)"
   ],
   "metadata": {
    "collapsed": false,
    "pycharm": {
     "name": "#%%\n"
    }
   }
  },
  {
   "cell_type": "code",
   "execution_count": 10,
   "outputs": [],
   "source": [
    "# a = grid.chunk()"
   ],
   "metadata": {
    "collapsed": false,
    "pycharm": {
     "name": "#%%\n"
    }
   }
  },
  {
   "cell_type": "code",
   "execution_count": 10,
   "outputs": [],
   "source": [
    "\n"
   ],
   "metadata": {
    "collapsed": false,
    "pycharm": {
     "name": "#%%\n"
    }
   }
  }
 ],
 "metadata": {
  "kernelspec": {
   "display_name": "Python 3",
   "language": "python",
   "name": "python3"
  },
  "language_info": {
   "codemirror_mode": {
    "name": "ipython",
    "version": 2
   },
   "file_extension": ".py",
   "mimetype": "text/x-python",
   "name": "python",
   "nbconvert_exporter": "python",
   "pygments_lexer": "ipython2",
   "version": "2.7.6"
  }
 },
 "nbformat": 4,
 "nbformat_minor": 0
}