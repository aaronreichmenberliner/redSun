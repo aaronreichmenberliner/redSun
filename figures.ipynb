{
 "cells": [
  {
   "cell_type": "code",
   "execution_count": 1,
   "metadata": {
    "collapsed": true
   },
   "outputs": [],
   "source": [
    "import numpy as np\n",
    "import matplotlib.pyplot as plt\n",
    "%matplotlib inline\n",
    "import matplotlib\n",
    "from matplotlib.cm import get_cmap"
   ]
  },
  {
   "cell_type": "code",
   "execution_count": 2,
   "outputs": [
    {
     "data": {
      "text/plain": "<Figure size 72x360 with 1 Axes>",
      "image/png": "[encoded data removed]"
     },
     "metadata": {
      "needs_background": "light"
     },
     "output_type": "display_data"
    }
   ],
   "source": [
    "pps = np.array([95.32, 2.7, 1.6, 0.13, 0.08])*.01*610\n",
    "names = ['CO2', 'N2', 'Ar', 'O2', 'CO']\n",
    "width = 0.35\n",
    "inds = 0\n",
    "\n",
    "\n",
    "name = \"Paired\"\n",
    "cmap = get_cmap(name)  # type: matplotlib.colors.ListedColormap\n",
    "colors = cmap.colors  # type: list\n",
    "\n",
    "fig, ax = plt.subplots(figsize=(1,5))\n",
    "ax.set_prop_cycle(color=colors)\n",
    "for i in range(0,len(pps)):\n",
    "    ax.bar(inds, pps[i], width=width,label=names[i])\n",
    "ax.set_yscale('log')\n",
    "ax.tick_params(axis='x',which='both',bottom=False,top=False,labelbottom=False)\n",
    "plt.setp(ax.get_yticklabels(), fontsize=30)\n",
    "# ax.tick_params(axis='y', labelsize=20)\n",
    "ax.set_ylabel('Pressure [Pa]', fontsize=30)\n",
    "# ax.legend()\n",
    "# fig.tight_layout()\n",
    "fig.savefig('Atmos.png',dpi=300,bbox_inches = \"tight\")"
   ],
   "metadata": {
    "collapsed": false,
    "pycharm": {
     "name": "#%%\n"
    }
   }
  },
  {
   "cell_type": "markdown",
   "source": [
    "# Fig 1 Inventories"
   ],
   "metadata": {
    "collapsed": false,
    "pycharm": {
     "name": "#%% md\n"
    }
   }
  },
  {
   "cell_type": "code",
   "execution_count": 3,
   "outputs": [
    {
     "data": {
      "text/plain": "<Figure size 72x360 with 1 Axes>",
      "image/png": "[encoded data removed]"
     },
     "metadata": {
      "needs_background": "light"
     },
     "output_type": "display_data"
    }
   ],
   "source": [
    "# pps = [44, 7.5, 1.1, 16.5, 5.6, 7.0, 0.3, 2.1, 4.9, 0.5,0.7,0.2]\n",
    "# names = ['SiO2', 'Al2O3', 'TiO2', 'FeO3', 'CaO', 'MgO', 'K2O', 'NaO', 'SO3', 'Cl', 'MnO']\n",
    "pps = np.array([43,18.5,6.6,22,4])\n",
    "names = ['SiO2','Fe2O3','SO3','Mineral Oxides','Volitiles']\n",
    "pps = pps*np.sum(pps)/100\n",
    "width = 0.35\n",
    "inds = 0\n",
    "\n",
    "li = np.argsort(pps)[::-1]\n",
    "\n",
    "# pps = pps[li]\n",
    "# names = names[li]\n",
    "\n",
    "ymin, ymax = ax.get_ylim()\n",
    "\n",
    "\n",
    "fig, ax = plt.subplots(figsize=(1,5))\n",
    "ax.set_prop_cycle(color=colors)\n",
    "for i in li:\n",
    "    ax.bar(inds, pps[i], width=width,label=names[i])\n",
    "ax.set_yscale('log')\n",
    "ax.tick_params(axis='x',which='both',bottom=False,top=False,labelbottom=False)\n",
    "# ax.set_yticks([1,10,10])\n",
    "plt.setp(ax.get_yticklabels(), fontsize=30)\n",
    "# ax.tick_params(axis='y', labelsize=20)\n",
    "ymin, ymax = ax.get_ylim()\n",
    "# ax.set_yticks(np.round(np.linspace(ymin, ymax, 5), dtype=int))\n",
    "# ax.locator_params(numticks=5)\n",
    "ax.set_yticks([5,10,20,40])\n",
    "ax.get_yaxis().set_major_formatter(matplotlib.ticker.ScalarFormatter())\n",
    "ax.set_ylabel('Wt%', fontsize=30)\n",
    "# ax.legend()\n",
    "# fig.tight_layout()\n",
    "fig.savefig('Rego.png',dpi=300,bbox_inches = \"tight\")\n",
    "\n",
    "\n"
   ],
   "metadata": {
    "collapsed": false,
    "pycharm": {
     "name": "#%%\n"
    }
   }
  },
  {
   "cell_type": "markdown",
   "source": [
    "## Fig 3"
   ],
   "metadata": {
    "collapsed": false,
    "pycharm": {
     "name": "#%% md\n"
    }
   }
  },
  {
   "cell_type": "code",
   "execution_count": 27,
   "outputs": [],
   "source": [
    "## Create Logscale timeline points\n",
    "sd = 2019\n",
    "b = 2\n",
    "n = 8\n",
    "d = [0]\n",
    "for i in range(0,n):\n",
    "    nd = 0 + b**i\n",
    "    d.append(nd)\n"
   ],
   "metadata": {
    "collapsed": false,
    "pycharm": {
     "name": "#%%\n"
    }
   }
  },
  {
   "cell_type": "code",
   "execution_count": 42,
   "outputs": [
    {
     "data": {
      "text/plain": "<Figure size 1008x360 with 1 Axes>",
      "image/png": "[encoded data removed]"
     },
     "metadata": {},
     "output_type": "display_data"
    }
   ],
   "source": [
    "## Plot timeline dates\n",
    "\n",
    "fig,ax = plt.subplots(figsize=(14,5))\n",
    "# fig,ax = plt.subplots()\n",
    "for i in range(0, len(d)-1):\n",
    "    ax.hlines(0, d[i], d[i+1], lw=5)\n",
    "\n",
    "d2 = d\n",
    "# d2[0] = np.log(np.e)\n",
    "for i in range(0, len(d)):\n",
    "    ax.semilogx(d2[i], 0, 'o',markersize=15, markerfacecolor='white', markeredgecolor='black', markeredgewidth=5)\n",
    "for i in range(1, len(d)):\n",
    "    ax.text(d2[i], 0.01, str(2019+d[i]), ha='center', fontsize=18)\n",
    "ax.tick_params(axis='x',which='both',bottom=False,top=False,labelbottom=False)\n",
    "ax.tick_params(axis='y',which='both',left=False,right=False,labelleft=False,labelright=False)\n",
    "\n",
    "\n"
   ],
   "metadata": {
    "collapsed": false,
    "pycharm": {
     "name": "#%%\n"
    }
   }
  },
  {
   "cell_type": "code",
   "execution_count": 20,
   "outputs": [],
   "source": [
    "4"
   ],
   "metadata": {
    "collapsed": false,
    "pycharm": {
     "name": "#%%\n"
    }
   }
  },
  {
   "cell_type": "code",
   "execution_count": 18,
   "outputs": [],
   "source": [],
   "metadata": {
    "collapsed": false,
    "pycharm": {
     "name": "#%%\n"
    }
   }
  },
  {
   "cell_type": "code",
   "execution_count": null,
   "outputs": [],
   "source": [
    "\n"
   ],
   "metadata": {
    "collapsed": false,
    "pycharm": {
     "name": "#%%\n"
    }
   }
  }
 ],
 "metadata": {
  "kernelspec": {
   "display_name": "Python 3",
   "language": "python",
   "name": "python3"
  },
  "language_info": {
   "codemirror_mode": {
    "name": "ipython",
    "version": 2
   },
   "file_extension": ".py",
   "mimetype": "text/x-python",
   "name": "python",
   "nbconvert_exporter": "python",
   "pygments_lexer": "ipython2",
   "version": "2.7.6"
  }
 },
 "nbformat": 4,
 "nbformat_minor": 0
}