{
 "cells": [
  {
   "cell_type": "code",
   "execution_count": 84,
   "id": "143778a1",
   "metadata": {},
   "outputs": [],
   "source": [
    "import numpy as np\n",
    "import matplotlib.pyplot as plt\n",
    "import xarray as xr"
   ]
  },
  {
   "cell_type": "markdown",
   "id": "8f04715d",
   "metadata": {},
   "source": [
    "## 3J PV"
   ]
  },
  {
   "cell_type": "code",
   "execution_count": 200,
   "id": "ad4cbf6a",
   "metadata": {},
   "outputs": [],
   "source": [
    "ts = xr.open_dataset('redsun_timeseries_17_00.nc')\n",
    "bg1f = ts['j3-bg1']\n",
    "bg2f = ts['j3-bg2']\n",
    "bg3f = ts['j3-bg3']\n",
    "\n",
    "ds = xr.open_dataset('j3PV.nc')\n",
    "x,y = np.shape(ds['j3pv-bg1'])\n",
    "latf = ds['lat']\n",
    "lonf = ds['lon']\n",
    "\n",
    "j3pvi_bg1 = np.zeros((37,19))\n",
    "j3pvi_bg2 = np.zeros((37,19))\n",
    "j3pvi_bg3 = np.zeros((37,19))\n",
    "\n",
    "for i in range(0,x):\n",
    "    for j in range(0,y):\n",
    "        ind = np.array(ds['j3pv-bg1'][i][j])\n",
    "        try:\n",
    "            j3pvi_bg1[i][j] = np.float(bg1f[int(ind)])\n",
    "        except:\n",
    "            pass\n",
    "\n",
    "x,y = np.shape(ds['j3pv-bg2'])\n",
    "for i in range(0,x):\n",
    "    for j in range(0,y):\n",
    "        ind = np.array(ds['j3pv-bg2'][i][j])\n",
    "        try:\n",
    "            j3pvi_bg2[i][j] = np.float(bg2f[int(ind)])\n",
    "        except:\n",
    "            pass\n",
    "\n",
    "x,y = np.shape(ds['j3pv-bg3'])        \n",
    "for i in range(0,x):\n",
    "    for j in range(0,y):\n",
    "        ind = np.array(ds['j3pv-bg3'][i][j])\n",
    "        try:\n",
    "            j3pvi_bg3[i][j] = np.float(bg3f[int(ind)])\n",
    "        except:\n",
    "            pass\n",
    "\n",
    "lats = np.arange(-90,91,10)\n",
    "lons = np.arange(-180,181,10)\n",
    "j3pvF = ds['j3pv']\n",
    "\n",
    "test = xr.Dataset({'j3pv': (('lon','lat'), np.array(j3pvF)),\n",
    "                            'j3pv-bg1': (('lon','lat'), j3pvi_bg1),\n",
    "                            'j3pv-bg2': (('lon','lat'), j3pvi_bg2),\n",
    "                            'j3pv-bg3': (('lon','lat'), j3pvi_bg3)},\n",
    "                            coords = {\n",
    "                                'lon': lons,\n",
    "                                'lat': lats,\n",
    "                            },)\n",
    "\n",
    "test['lat'].attrs['units'] = 'degrees_north'\n",
    "test['lon'].attrs['units'] = 'degrees_east'\n",
    "test['j3pv'].attrs['units'] = '(kW*hr)/(day*m^2)'\n",
    "test['j3pv-bg1'].attrs['units'] = 'eV'\n",
    "test['j3pv-bg2'].attrs['units'] = 'eV'\n",
    "test['j3pv-bg3'].attrs['units'] = 'eV'\n",
    "\n",
    "test['j3pv'] = test['j3pv'].where(test['j3pv'] != 0.0)\n",
    "test['j3pv-bg1'] = test['j3pv-bg1'].where(test['j3pv-bg1'] != 0.0)\n",
    "test['j3pv-bg2'] = test['j3pv-bg2'].where(test['j3pv-bg2'] != 0.0)\n",
    "test['j3pv-bg3'] = test['j3pv-bg3'].where(test['j3pv-bg3'] != 0.0)\n",
    "\n",
    "test.to_netcdf('j3pv2.nc')\n"
   ]
  },
  {
   "cell_type": "code",
   "execution_count": null,
   "id": "8a78d9be",
   "metadata": {},
   "outputs": [],
   "source": []
  },
  {
   "cell_type": "markdown",
   "id": "f9fe84ae",
   "metadata": {},
   "source": [
    "## 2JH2"
   ]
  },
  {
   "cell_type": "code",
   "execution_count": 202,
   "id": "fb8993d0",
   "metadata": {},
   "outputs": [],
   "source": [
    "ts = xr.open_dataset('redsun_timeseries_17_00.nc')\n",
    "bg1f = ts['j2-bg1']\n",
    "bg2f = ts['j2-bg2']\n",
    "# bg3f = ts['j3-bg3']\n",
    "\n",
    "ds = xr.open_dataset('j2h2.nc')\n",
    "x,y = np.shape(ds['j2h2-bg1'])\n",
    "latf = ds['lat']\n",
    "lonf = ds['lon']\n",
    "\n",
    "j2h2i_bg1 = np.zeros((37,19))\n",
    "j2h2i_bg2 = np.zeros((37,19))\n",
    "# j2h2i_bg3 = np.zeros((37,19))\n",
    "\n",
    "for i in range(0,x):\n",
    "    for j in range(0,y):\n",
    "        ind = np.array(ds['j2h2-bg1'][i][j])\n",
    "        try:\n",
    "            j2h2i_bg1[i][j] = np.float(bg1f[int(ind)])\n",
    "        except:\n",
    "            pass\n",
    "\n",
    "x,y = np.shape(ds['j2h2-bg2'])\n",
    "for i in range(0,x):\n",
    "    for j in range(0,y):\n",
    "        ind = np.array(ds['j2h2-bg2'][i][j])\n",
    "        try:\n",
    "            j2h2i_bg2[i][j] = np.float(bg2f[int(ind)])\n",
    "        except:\n",
    "            pass\n",
    "\n",
    "# x,y = np.shape(ds['j2h2-bg3'])        \n",
    "# for i in range(0,x):\n",
    "#     for j in range(0,y):\n",
    "#         ind = np.array(ds['j2h2-bg3'][i][j])\n",
    "#         try:\n",
    "#             j2h2i_bg3[i][j] = np.float(bg3f[int(ind)])\n",
    "#         except:\n",
    "#             pass\n",
    "\n",
    "lats = np.arange(-90,91,10)\n",
    "lons = np.arange(-180,181,10)\n",
    "j2h2F = ds['j2h2']\n",
    "\n",
    "test = xr.Dataset({'j2h2': (('lon','lat'), np.array(j2h2F)),\n",
    "                            'j2h2-bg1': (('lon','lat'), j2h2i_bg1),\n",
    "                            'j2h2-bg2': (('lon','lat'), j2h2i_bg2)},\n",
    "                            coords = {\n",
    "                                'lon': lons,\n",
    "                                'lat': lats,\n",
    "                            },)\n",
    "\n",
    "test['lat'].attrs['units'] = 'degrees_north'\n",
    "test['lon'].attrs['units'] = 'degrees_east'\n",
    "test['j2h2'].attrs['units'] = 'g/(day*m^2)'\n",
    "test['j2h2-bg1'].attrs['units'] = 'eV'\n",
    "test['j2h2-bg2'].attrs['units'] = 'eV'\n",
    "\n",
    "test['j2h2'] = test['j2h2'].where(test['j2h2'] != 0.0)\n",
    "test['j2h2-bg1'] = test['j2h2-bg1'].where(test['j2h2-bg1'] != 0.0)\n",
    "test['j2h2-bg2'] = test['j2h2-bg2'].where(test['j2h2-bg2'] != 0.0)\n",
    "\n",
    "test.to_netcdf('j2h22.nc')\n"
   ]
  },
  {
   "cell_type": "code",
   "execution_count": 164,
   "id": "8dd45486",
   "metadata": {},
   "outputs": [
    {
     "data": {
      "text/plain": [
       "<xarray.DataArray 'lat' (lat: 19)>\n",
       "array([-90, -80, -70, -60, -50, -40, -30, -20, -10,   0,  10,  20,  30,  40,\n",
       "        50,  60,  70,  80,  90])\n",
       "Coordinates:\n",
       "  * lat      (lat) int64 -90 -80 -70 -60 -50 -40 -30 ... 30 40 50 60 70 80 90\n",
       "Attributes:\n",
       "    units:    degrees_north"
      ]
     },
     "execution_count": 164,
     "metadata": {},
     "output_type": "execute_result"
    }
   ],
   "source": [
    "latf"
   ]
  },
  {
   "cell_type": "code",
   "execution_count": 163,
   "id": "b95e8f15",
   "metadata": {},
   "outputs": [
    {
     "data": {
      "text/plain": [
       "<xarray.DataArray 'j3pv-bg3' ()>\n",
       "array(32.)\n",
       "Coordinates:\n",
       "    lon      int64 180\n",
       "    lat      int64 90\n",
       "Attributes:\n",
       "    units:    eV"
      ]
     },
     "execution_count": 163,
     "metadata": {},
     "output_type": "execute_result"
    }
   ],
   "source": [
    "latf"
   ]
  },
  {
   "cell_type": "code",
   "execution_count": 120,
   "id": "311d4621",
   "metadata": {},
   "outputs": [
    {
     "data": {
      "text/plain": [
       "<xarray.DataArray ()>\n",
       "array(0.72)\n",
       "Coordinates:\n",
       "    lat      int64 19\n",
       "    lon      int64 37"
      ]
     },
     "execution_count": 120,
     "metadata": {},
     "output_type": "execute_result"
    }
   ],
   "source": [
    "rep"
   ]
  },
  {
   "cell_type": "code",
   "execution_count": 110,
   "id": "2717ac99",
   "metadata": {},
   "outputs": [
    {
     "data": {
      "text/plain": [
       "array([-180, -170, -160, -150, -140, -130, -120, -110, -100,  -90,  -80,\n",
       "        -70,  -60,  -50,  -40,  -30,  -20,  -10,    0,   10,   20,   30,\n",
       "         40,   50,   60,   70,   80,   90,  100,  110,  120,  130,  140,\n",
       "        150,  160,  170,  180])"
      ]
     },
     "execution_count": 110,
     "metadata": {},
     "output_type": "execute_result"
    }
   ],
   "source": [
    "np.array(ds['lon'])"
   ]
  },
  {
   "cell_type": "code",
   "execution_count": 62,
   "id": "ba4df294",
   "metadata": {},
   "outputs": [
    {
     "data": {
      "text/plain": [
       "<xarray.DataArray 'j3pv-bg1' (lon: 37, lat: 19)>\n",
       "array([[ nan, 1.51, 1.51, ..., 1.51, 1.51, 1.51],\n",
       "       [ nan, 1.51, 1.51, ..., 1.51, 1.51, 1.51],\n",
       "       [ nan, 1.51, 1.51, ..., 1.51, 1.51, 1.51],\n",
       "       ...,\n",
       "       [1.51, 1.51, 1.51, ..., 1.51, 1.51, 1.51],\n",
       "       [1.51, 1.51, 1.51, ..., 1.51, 1.51, 1.51],\n",
       "       [1.51, 1.51, 1.51, ..., 1.51, 1.51, 1.51]])\n",
       "Coordinates:\n",
       "  * lon      (lon) int64 -180 -170 -160 -150 -140 -130 ... 140 150 160 170 180\n",
       "  * lat      (lat) int64 -90 -80 -70 -60 -50 -40 -30 ... 30 40 50 60 70 80 90\n",
       "Attributes:\n",
       "    units:    eV"
      ]
     },
     "execution_count": 62,
     "metadata": {},
     "output_type": "execute_result"
    }
   ],
   "source": [
    "ds['j3pv-bg1']"
   ]
  },
  {
   "cell_type": "code",
   "execution_count": 58,
   "id": "2c89ab1b",
   "metadata": {},
   "outputs": [
    {
     "data": {
      "text/plain": [
       "<xarray.DataArray 'j3pv-bg3' ()>\n",
       "array(32.)\n",
       "Coordinates:\n",
       "    lon      int64 180\n",
       "    lat      int64 90\n",
       "Attributes:\n",
       "    units:    eV"
      ]
     },
     "execution_count": 58,
     "metadata": {},
     "output_type": "execute_result"
    }
   ],
   "source": [
    "ds['j3pv-bg3'][i][j]."
   ]
  },
  {
   "cell_type": "code",
   "execution_count": null,
   "id": "d8acdc14",
   "metadata": {},
   "outputs": [],
   "source": []
  }
 ],
 "metadata": {
  "kernelspec": {
   "display_name": "Python 3",
   "language": "python",
   "name": "python3"
  },
  "language_info": {
   "codemirror_mode": {
    "name": "ipython",
    "version": 3
   },
   "file_extension": ".py",
   "mimetype": "text/x-python",
   "name": "python",
   "nbconvert_exporter": "python",
   "pygments_lexer": "ipython3",
   "version": "3.6.7"
  }
 },
 "nbformat": 4,
 "nbformat_minor": 5
}
