{
 "cells": [
  {
   "cell_type": "code",
   "execution_count": 1,
   "outputs": [
    {
     "data": {
      "text/plain": "<Client: 'tcp://127.0.0.1:57671' processes=4 threads=8, memory=51.54 GB>",
      "text/html": "<table style=\"border: 2px solid white;\">\n<tr>\n<td style=\"vertical-align: top; border: 0px solid white\">\n<h3 style=\"text-align: left;\">Client</h3>\n<ul style=\"text-align: left; list-style: none; margin: 0; padding: 0;\">\n  <li><b>Scheduler: </b>tcp://127.0.0.1:57671</li>\n  <li><b>Dashboard: </b><a href='http://127.0.0.1:8787/status' target='_blank'>http://127.0.0.1:8787/status</a></li>\n</ul>\n</td>\n<td style=\"vertical-align: top; border: 0px solid white\">\n<h3 style=\"text-align: left;\">Cluster</h3>\n<ul style=\"text-align: left; list-style:none; margin: 0; padding: 0;\">\n  <li><b>Workers: </b>4</li>\n  <li><b>Cores: </b>8</li>\n  <li><b>Memory: </b>51.54 GB</li>\n</ul>\n</td>\n</tr>\n</table>"
     },
     "execution_count": 1,
     "metadata": {},
     "output_type": "execute_result"
    }
   ],
   "source": [
    "import numpy as np\n",
    "import xarray as xr\n",
    "import pandas as pd\n",
    "import glob\n",
    "from dask.distributed import Client\n",
    "\n",
    "\n",
    "files = glob.glob('singlePoints-LsTest/*.nc')\n",
    "n = 500\n",
    "blocks = [files[i:i + n] for i in range(0, len(files), n)]\n",
    "\n",
    "client = Client()\n",
    "client"
   ],
   "metadata": {
    "collapsed": false,
    "pycharm": {
     "name": "#%%\n"
    }
   }
  },
  {
   "cell_type": "code",
   "execution_count": 2,
   "outputs": [],
   "source": [
    "\n",
    "filename_netCDF = 'PV_grid_init.nc'\n",
    "prime = xr.open_dataset(filename_netCDF, decode_cf=False)\n",
    "l = list(prime.variables)\n",
    "rl = ['lat','lon','wl','ls','hr','j1-bg','j2-bg1','j2-bg2','j3-bg1','j3-bg2','j3-bg3']\n",
    "for r in rl:\n",
    "    l.remove(r)\n",
    "prime.close()"
   ],
   "metadata": {
    "collapsed": false,
    "pycharm": {
     "name": "#%%\n"
    }
   }
  },
  {
   "cell_type": "code",
   "execution_count": 3,
   "outputs": [],
   "source": [
    "# ri = ['auto','auto',,'auto','auto',None,None,None,None,None,None]\n",
    "ri = [19,37,60,25,13,-1,-1,6,-1,6,6]\n",
    "c = dict(zip(rl,ri))\n",
    "# d['hr'] = 13"
   ],
   "metadata": {
    "collapsed": false,
    "pycharm": {
     "name": "#%%\n"
    }
   }
  },
  {
   "cell_type": "code",
   "execution_count": 4,
   "outputs": [],
   "source": [
    "prime = xr.open_dataset(filename_netCDF, decode_cf=False, chunks=c)\n",
    "\n",
    "ds = xr.open_dataset(files[0], decode_cf=False)"
   ],
   "metadata": {
    "collapsed": false,
    "pycharm": {
     "name": "#%%\n"
    }
   }
  },
  {
   "cell_type": "code",
   "execution_count": null,
   "outputs": [],
   "source": [
    "lat = int(ds['lat'].values)\n",
    "lon = int(ds['lon'].values)\n",
    "hr = int(ds['hr'].values)\n",
    "ls = int(ds['ls'].values)"
   ],
   "metadata": {
    "collapsed": false,
    "pycharm": {
     "name": "#%%\n"
    }
   }
  },
  {
   "cell_type": "code",
   "execution_count": null,
   "outputs": [],
   "source": [
    "for i in l:\n",
    "    prime[i][lat,lon,ls,hr].values = ds[i]"
   ],
   "metadata": {
    "collapsed": false,
    "pycharm": {
     "name": "#%%\n"
    }
   }
  },
  {
   "cell_type": "code",
   "execution_count": 6,
   "outputs": [],
   "source": [
    "prime.close()"
   ],
   "metadata": {
    "collapsed": false,
    "pycharm": {
     "name": "#%%\n"
    }
   }
  },
  {
   "cell_type": "code",
   "execution_count": 4,
   "outputs": [],
   "source": [
    "b = 0\n",
    "for block in blocks[0:2]:\n",
    "    prime = xr.open_dataset(filename_netCDF, decode_cf=False, chunks=c)\n",
    "    for file in files[0:15]:\n",
    "        ds = xr.open_dataset(file, decode_cf=False)\n",
    "        lat = int(ds['lat'].values)\n",
    "        lon = int(ds['lon'].values)\n",
    "        hr = int(ds['hr'].values)\n",
    "        ls = int(ds['ls'].values)\n",
    "        for i in l:\n",
    "            prime[i][lat,lon,ls,hr].values = ds[i]\n",
    "        ds.close()\n",
    "    prime.to_netcdf('PV_grid_final'+str(b)+'.nc')\n",
    "    prime.close()\n",
    "    b = b + 1\n"
   ],
   "metadata": {
    "collapsed": false,
    "pycharm": {
     "name": "#%%\n"
    }
   }
  },
  {
   "cell_type": "code",
   "execution_count": null,
   "outputs": [],
   "source": [
    "prime = xr.open_dataset(filename_netCDF, decode_cf=False, chunks=c)"
   ],
   "metadata": {
    "collapsed": false,
    "pycharm": {
     "name": "#%%\n"
    }
   }
  },
  {
   "cell_type": "code",
   "execution_count": null,
   "outputs": [],
   "source": [
    "prime.unify_chunks()"
   ],
   "metadata": {
    "collapsed": false,
    "pycharm": {
     "name": "#%%\n"
    }
   }
  },
  {
   "cell_type": "code",
   "execution_count": null,
   "outputs": [],
   "source": [
    "prime.chunks"
   ],
   "metadata": {
    "collapsed": false,
    "pycharm": {
     "name": "#%%\n"
    }
   }
  },
  {
   "cell_type": "code",
   "execution_count": null,
   "outputs": [],
   "source": [
    "4# ri = [19,37,10,25,5,105,10,10,10,10,10]\n",
    "c = dict(zip(rl,ri))\n",
    "\n",
    "prime = xr.open_dataset(filename_netCDF, decode_cf=False, chunks=c)\n",
    "ds = xr.open_dataset(files[0], decode_cf=False)\n",
    "\n",
    "for i in l:\n",
    "    prime[i][lat,lon,ls,hr].values = ds[i]\n",
    "\n",
    "prime.to_netcdf('PV_grid_final1.nc')"
   ],
   "metadata": {
    "collapsed": false,
    "pycharm": {
     "name": "#%%\n",
     "is_executing": true
    }
   }
  },
  {
   "cell_type": "code",
   "execution_count": null,
   "outputs": [],
   "source": [
    "blocks[0]"
   ],
   "metadata": {
    "collapsed": false,
    "pycharm": {
     "name": "#%%\n"
    }
   }
  },
  {
   "cell_type": "code",
   "execution_count": null,
   "outputs": [],
   "source": [
    "files"
   ],
   "metadata": {
    "collapsed": false,
    "pycharm": {
     "name": "#%%\n"
    }
   }
  },
  {
   "cell_type": "code",
   "execution_count": null,
   "outputs": [],
   "source": [
    "blocks[0]"
   ],
   "metadata": {
    "collapsed": false,
    "pycharm": {
     "name": "#%%\n"
    }
   }
  },
  {
   "cell_type": "code",
   "execution_count": null,
   "outputs": [],
   "source": [
    "\n",
    "prime.chunks"
   ],
   "metadata": {
    "collapsed": false,
    "pycharm": {
     "name": "#%%\n"
    }
   }
  },
  {
   "cell_type": "code",
   "execution_count": null,
   "outputs": [],
   "source": [
    "# xr.open_mfdataset(blocks[0],parallel=True, combine='nested', concat_dim=)"
   ],
   "metadata": {
    "collapsed": false,
    "pycharm": {
     "name": "#%%\n"
    }
   }
  },
  {
   "cell_type": "code",
   "execution_count": 5,
   "outputs": [
    {
     "data": {
      "text/plain": "Frozen(SortedKeysDict({'lat': (19,), 'lon': (37,), 'ls': (24,), 'hr': (13,), 'wl': (50, 50, 50, 50, 50, 50, 50, 50, 50, 50, 50, 50, 50, 50, 50, 50, 50, 50, 50, 50, 50, 50, 50, 50, 50, 50, 41), 'j1-bg': (261,), 'j2-bg1': (181,), 'j2-bg2': (10, 10, 10, 10, 10, 10, 10, 10, 1), 'j3-bg1': (151,), 'j3-bg2': (51,), 'j3-bg3': (10, 10, 10, 10, 10, 10, 1)}))"
     },
     "execution_count": 5,
     "metadata": {},
     "output_type": "execute_result"
    }
   ],
   "source": [
    "prime.chunks"
   ],
   "metadata": {
    "collapsed": false,
    "pycharm": {
     "name": "#%%\n"
    }
   }
  },
  {
   "cell_type": "code",
   "execution_count": 8,
   "outputs": [],
   "source": [
    "client.close()\n",
    "\n"
   ],
   "metadata": {
    "collapsed": false,
    "pycharm": {
     "name": "#%%\n"
    }
   }
  },
  {
   "cell_type": "code",
   "execution_count": null,
   "outputs": [],
   "source": [
    "\n"
   ],
   "metadata": {
    "collapsed": false,
    "pycharm": {
     "name": "#%%\n"
    }
   }
  }
 ],
 "metadata": {
  "kernelspec": {
   "display_name": "Python 3",
   "language": "python",
   "name": "python3"
  },
  "language_info": {
   "codemirror_mode": {
    "name": "ipython",
    "version": 2
   },
   "file_extension": ".py",
   "mimetype": "text/x-python",
   "name": "python",
   "nbconvert_exporter": "python",
   "pygments_lexer": "ipython2",
   "version": "2.7.6"
  }
 },
 "nbformat": 4,
 "nbformat_minor": 0
}