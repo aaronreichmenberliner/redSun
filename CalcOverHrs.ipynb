{
 "cells": [
  {
   "cell_type": "code",
   "execution_count": 1,
   "metadata": {
    "collapsed": true
   },
   "outputs": [],
   "source": [
    "import numpy as np\n",
    "import xarray as xr\n",
    "import pandas as pd\n",
    "import matplotlib.pylab as plt\n",
    "%matplotlib inline"
   ]
  },
  {
   "cell_type": "code",
   "execution_count": 2,
   "outputs": [],
   "source": [
    "## Get some files for testing\n",
    "## Should be single point netCDFs with matching Lat,Lon,Ls across Hr of sol\n",
    "## There should be a max of 13\n",
    "\n",
    "directory = ''\n"
   ],
   "metadata": {
    "collapsed": false,
    "pycharm": {
     "name": "#%%\n"
    }
   }
  },
  {
   "cell_type": "code",
   "execution_count": null,
   "outputs": [],
   "source": [
    "def calc(listofFiles):\n",
    "\n",
    "    ## open the files\n",
    "\n",
    "\n",
    "    ## Define resultant variable multiplier\n",
    "    multiplier = convkg/(Eredox*n*F)\n",
    "\n",
    "    ## For loop for j1, j2, j3\n",
    "        ## Loop for AA, NH3, H2, PV\n",
    "\n",
    "            ## Determine which variable we're using and assign variables\n",
    "                if 'H2' in variable:\n",
    "                    Eredox = 1.23\n",
    "                    n = 2\n",
    "                    convkg = 2.02e-3\n",
    "                elif 'NH3' in variable:\n",
    "                    Eredox = 1.17\n",
    "                    n = 6\n",
    "                    convkg = 17.031e-3\n",
    "                elif 'AA' in variable:\n",
    "                    Eredox = 1.09\n",
    "                    n = 8\n",
    "                    convkg = 60.052e-3\n",
    "                else: #this means PV\n",
    "                    Eredox = 1\n",
    "                    n = 1\n",
    "                    F = 1\n",
    "                    convkg = 1\n",
    "\n",
    "                ## Define resultant variable multiplier\n",
    "                multiplier = convkg/(Eredox*n*F)\n",
    "                df['']\n",
    "\n",
    "\n",
    "\n",
    "\n"
   ],
   "metadata": {
    "collapsed": false,
    "pycharm": {
     "name": "#%%\n"
    }
   }
  }
 ],
 "metadata": {
  "kernelspec": {
   "display_name": "Python 3",
   "language": "python",
   "name": "python3"
  },
  "language_info": {
   "codemirror_mode": {
    "name": "ipython",
    "version": 2
   },
   "file_extension": ".py",
   "mimetype": "text/x-python",
   "name": "python",
   "nbconvert_exporter": "python",
   "pygments_lexer": "ipython2",
   "version": "2.7.6"
  }
 },
 "nbformat": 4,
 "nbformat_minor": 0
}