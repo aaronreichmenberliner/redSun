{
 "cells": [
  {
   "cell_type": "code",
   "execution_count": 1,
   "metadata": {
    "collapsed": true
   },
   "outputs": [],
   "source": [
    "\n",
    "import numpy as np\n",
    "import matplotlib.pyplot as plt\n",
    "import xarray as xr\n",
    "import glob\n",
    "import h5py\n",
    "import time"
   ]
  },
  {
   "cell_type": "code",
   "execution_count": 7,
   "outputs": [],
   "source": [
    "def ls2sol(ls):\n",
    "    N_s = 668.6\n",
    "    ls_peri = 250.99\n",
    "    t_peri = 485.35\n",
    "    a = 1.52368\n",
    "    e = 0.09340\n",
    "    epsilon = 25.1919\n",
    "    if (ls == 0).any():\n",
    "        ls = .01\n",
    "    nu = np.radians(ls) + 1.90258\n",
    "    E = np.arctan((np.tan(nu/2))/(np.sqrt((1+e)/(1-e))))*2\n",
    "    M = E - e*np.sin(E)\n",
    "    Ds = (M/(2*np.pi))*N_s + t_peri\n",
    "    if (Ds < 0).any():\n",
    "        Ds = Ds + N_s\n",
    "    if (Ds > N_s).any():\n",
    "        Ds = Ds - N_s\n",
    "    return(Ds)"
   ],
   "metadata": {
    "collapsed": false,
    "pycharm": {
     "name": "#%%\n"
    }
   }
  },
  {
   "cell_type": "code",
   "execution_count": 10,
   "outputs": [],
   "source": [
    "sg = xr.open_dataset('StupidGridFull.nc', group='flux')\n",
    "files = [f for f in glob.glob(\"redsun_timeseries_*.nc\")]\n",
    "\n",
    "j3pvF = np.zeros((19,37))\n",
    "j3pvi_bg1_F = np.zeros((19,37))\n",
    "j3pvi_bg2_F = np.zeros((19,37))\n",
    "j3pvi_bg3_F = np.zeros((19,37))"
   ],
   "metadata": {
    "collapsed": false,
    "pycharm": {
     "name": "#%%\n"
    }
   }
  },
  {
   "cell_type": "code",
   "execution_count": 17,
   "outputs": [
    {
     "name": "stdout",
     "output_type": "stream",
     "text": [
      "Downloaded the tutorial in 899.6079 seconds\n"
     ]
    }
   ],
   "source": [
    "tic = time.perf_counter()\n",
    "for file in files[0:1]:\n",
    "    ds = xr.open_dataset(file)\n",
    "    lat = ds['lat'][0]\n",
    "    lon = ds['lon'][0]\n",
    "    G = np.zeros(len(ds['lon']))\n",
    "    for ri in range(0,len(ds['lon'])):\n",
    "        ls = ds['ls'][ri]\n",
    "        hr = ds['hr'][ri]\n",
    "        G[ri] = sg['flux_dw_sw'][lat,lon,ls,hr]\n",
    "    lss = np.unique(ds['ls'])\n",
    "\n",
    "    try:\n",
    "        P = G[:, np.newaxis, np.newaxis, np.newaxis] * ds['j3_etaPV_3bg']\n",
    "        zz = np.zeros((len(lss),len(ds['j3-bg1']),len(ds['j3-bg2']),len(ds['j3-bg3'])))\n",
    "        for i in range(0,len(lss)):\n",
    "            hr_int = np.where(ds['ls']==lss[i])\n",
    "            x = np.array(ds['hr'][hr_int] * 2 * 1.02569 * 60 * 60)\n",
    "            for j in range(0,len(ds['j3-bg1'])):\n",
    "                for k in range(0,len(ds['j3-bg2'])):\n",
    "                    for l in range(0,len(ds['j3-bg3'])):\n",
    "                        y = P[:,j,k,l][hr_int]\n",
    "                        z = np.trapz(y,x=x)\n",
    "                        zz[i,j,k,l] = z\n",
    "        z = np.zeros((len(ds['j3-bg1']),len(ds['j3-bg2']),len(ds['j3-bg3'])))\n",
    "        x = ls2sol(lss) * 1.02569 * 24 * 60 * 60\n",
    "        for j in range(0,len(ds['j3-bg1'])):\n",
    "            for k in range(0,len(ds['j3-bg2'])):\n",
    "                for l in range(0,len(ds['j3-bg3'])):\n",
    "                    y = zz[:,j,k,l]\n",
    "                    z[j,k,l] = np.trapz(y,x=lss)\n",
    "        j3pv = np.max(z)\n",
    "        j3pvi = np.unravel_index(np.argmax(z),np.shape(z), order='C')\n",
    "\n",
    "        j3pvF[lat,lon] = j3pv * (1/688) * (1/1000) * (1/3600)\n",
    "        j3pvi_bg1_F[lat,lon] = j3pvi[0]\n",
    "        j3pvi_bg2_F[lat,lon] = j3pvi[1]\n",
    "        j3pvi_bg3_F[lat,lon] = j3pvi[2]\n",
    "    except:\n",
    "        print(file)\n",
    "\n",
    "lats = np.arange(-90,91,10)\n",
    "lons = np.arange(-180,181,10)\n",
    "test = xr.Dataset(\n",
    "    {'j3pv': (('lon','lat'), j3pvF.transpose()),\n",
    "    'j3pv-bg1': (('lon','lat'), j3pvi_bg1_F.transpose()),\n",
    "    'j3pv-bg2': (('lon','lat'), j3pvi_bg2_F.transpose()),\n",
    "    'j3pv-bg3': (('lon','lat'), j3pvi_bg3_F.transpose())},\n",
    "    coords = {\n",
    "        'lon': lons,\n",
    "        'lat': lats,\n",
    "    },)\n",
    "\n",
    "test['lat'].attrs['units'] = 'degrees_north'\n",
    "test['lon'].attrs['units'] = 'degrees_east'\n",
    "test['j3pv'].attrs['units'] = '(kW*hr)/(day*m^2)'\n",
    "test['j3pv-bg1'].attrs['units'] = 'nm'\n",
    "test['j3pv-bg2'].attrs['units'] = 'nm'\n",
    "test['j3pv-bg3'].attrs['units'] = 'nm'\n",
    "\n",
    "test['j3pv-bg1'] = test['j3pv-bg1'].where(test['j3pv-bg1'] != 0.0)\n",
    "test['j3pv-bg2'] = test['j3pv-bg2'].where(test['j3pv-bg2'] != 0.0)\n",
    "test['j3pv-bg3'] = test['j3pv-bg3'].where(test['j3pv-bg3'] != 0.0)\n",
    "\n",
    "\n",
    "test.to_netcdf('j3pv.nc')\n",
    "toc = time.perf_counter()\n",
    "print(f\"Downloaded the tutorial in {toc - tic:0.4f} seconds\")"
   ],
   "metadata": {
    "collapsed": false,
    "pycharm": {
     "name": "#%%\n"
    }
   }
  },
  {
   "cell_type": "code",
   "execution_count": 17,
   "outputs": [],
   "source": [],
   "metadata": {
    "collapsed": false,
    "pycharm": {
     "name": "#%%\n"
    }
   }
  },
  {
   "cell_type": "code",
   "execution_count": null,
   "outputs": [],
   "source": [],
   "metadata": {
    "collapsed": false,
    "pycharm": {
     "name": "#%%\n"
    }
   }
  }
 ],
 "metadata": {
  "kernelspec": {
   "display_name": "Python 3",
   "language": "python",
   "name": "python3"
  },
  "language_info": {
   "codemirror_mode": {
    "name": "ipython",
    "version": 2
   },
   "file_extension": ".py",
   "mimetype": "text/x-python",
   "name": "python",
   "nbconvert_exporter": "python",
   "pygments_lexer": "ipython2",
   "version": "2.7.6"
  }
 },
 "nbformat": 4,
 "nbformat_minor": 0
}