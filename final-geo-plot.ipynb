{
 "cells": [
  {
   "cell_type": "code",
   "execution_count": 18,
   "outputs": [],
   "source": [
    "import numpy as np\n",
    "import matplotlib.pyplot as plt\n",
    "import xarray as xr\n",
    "import glob\n",
    "import h5py\n",
    "import multiprocessing as mp\n",
    "\n",
    "def ls2sol(ls):\n",
    "    N_s = 668.6\n",
    "    ls_peri = 250.99\n",
    "    t_peri = 485.35\n",
    "    a = 1.52368\n",
    "    e = 0.09340\n",
    "    epsilon = 25.1919\n",
    "    if (ls == 0).any():\n",
    "        ls = .01\n",
    "    nu = np.radians(ls) + 1.90258\n",
    "    E = np.arctan((np.tan(nu/2))/(np.sqrt((1+e)/(1-e))))*2\n",
    "    M = E - e*np.sin(E)\n",
    "    Ds = (M/(2*np.pi))*N_s + t_peri\n",
    "    if (Ds < 0).any():\n",
    "        Ds = Ds + N_s\n",
    "    if (Ds > N_s).any():\n",
    "        Ds = Ds - N_s\n",
    "    return(Ds)"
   ],
   "metadata": {
    "collapsed": false,
    "pycharm": {
     "name": "#%%\n"
    }
   }
  },
  {
   "cell_type": "code",
   "execution_count": 40,
   "outputs": [],
   "source": [
    "def point_loop(file):\n",
    "    sg = xr.open_dataset('StupidGridFull.nc', group='flux')\n",
    "    ds = xr.open_dataset(file)\n",
    "    lat = ds['lat'][0]\n",
    "    lon = ds['lon'][0]\n",
    "    G = np.zeros(len(ds['lon']))\n",
    "    for ri in range(0,len(ds['lon'])):\n",
    "        ls = ds['ls'][ri]\n",
    "        hr = ds['hr'][ri]\n",
    "        G[ri] = sg['flux_dw_sw'][lat,lon,ls,hr]\n",
    "    lss = np.unique(ds['ls'])\n",
    "    Z = 2.016\n",
    "    n = 2\n",
    "    F = 96485.33212\n",
    "    sg = 0\n",
    "    try:\n",
    "        P = G[:, np.newaxis, np.newaxis] * ds['j2_etaPEC_H2_2bg'] * Z/(n*F)\n",
    "        zz = np.zeros((len(lss),len(ds['j2-bg1']),len(ds['j2-bg2'])))\n",
    "        for i in range(0,len(lss)):\n",
    "            hr_int = np.where(ds['ls']==lss[i])\n",
    "            x = np.array(ds['hr'][hr_int] * 2 * 1.02569 * 60 * 60)\n",
    "            for j in range(0,len(ds['j2-bg1'])):\n",
    "                for k in range(0,len(ds['j2-bg2'])):\n",
    "                    y = P[:,j,k][hr_int]\n",
    "                    z = np.trapz(y,x=x)\n",
    "                    zz[i,j,k] = z\n",
    "        z = np.zeros((len(ds['j2-bg1']),len(ds['j2-bg2'])))\n",
    "        x = ls2sol(lss*15) * 1.02569 * 24 * 60 * 60\n",
    "        for j in range(0,len(ds['j2-bg1'])):\n",
    "            for k in range(0,len(ds['j2-bg2'])):\n",
    "                y = zz[:,j,k]\n",
    "                z[j,k] = np.trapz(y,x=x)\n",
    "        j2h2 = np.max(z)\n",
    "        j2h2i = np.unravel_index(np.argmax(z),np.shape(z), order='C')\n",
    "\n",
    "        h2 = j2h2 * (1/688)\n",
    "        bg1 = np.array(ds['j2-bg1'][j2h2i[0]])\n",
    "        bg2 = np.array(ds['j2-bg1'][j2h2i[1]])\n",
    "        return([[lat,lon,0],[h2,bg1,bg2]])\n",
    "    except:\n",
    "        return([[lat,lon,1],[file]])"
   ],
   "metadata": {
    "collapsed": false,
    "pycharm": {
     "name": "#%%\n"
    }
   }
  },
  {
   "cell_type": "code",
   "execution_count": 41,
   "outputs": [],
   "source": [
    "file = 'redsun_timeseries_00_10.nc'\n",
    "results = [0,0]\n",
    "results[0] = point_loop(file)"
   ],
   "metadata": {
    "collapsed": false,
    "pycharm": {
     "name": "#%%\n"
    }
   }
  },
  {
   "cell_type": "code",
   "execution_count": 42,
   "outputs": [
    {
     "data": {
      "text/plain": "[[[<xarray.DataArray 'lat' ()>\n   array(10),\n   <xarray.DataArray 'lon' ()>\n   array(0),\n   1],\n  ['redsun_timeseries_00_10.nc']],\n 0]"
     },
     "execution_count": 42,
     "metadata": {},
     "output_type": "execute_result"
    }
   ],
   "source": [
    "results"
   ],
   "metadata": {
    "collapsed": false,
    "pycharm": {
     "name": "#%%\n"
    }
   }
  },
  {
   "cell_type": "code",
   "execution_count": 21,
   "outputs": [
    {
     "ename": "TypeError",
     "evalue": "'int' object is not subscriptable",
     "output_type": "error",
     "traceback": [
      "\u001B[0;31m---------------------------------------------------------------------------\u001B[0m",
      "\u001B[0;31mTypeError\u001B[0m                                 Traceback (most recent call last)",
      "\u001B[0;32m<ipython-input-21-78829afd2ffb>\u001B[0m in \u001B[0;36m<module>\u001B[0;34m\u001B[0m\n\u001B[1;32m     10\u001B[0m \u001B[0;34m\u001B[0m\u001B[0m\n\u001B[1;32m     11\u001B[0m \u001B[0;32mfor\u001B[0m \u001B[0mr\u001B[0m \u001B[0;32min\u001B[0m \u001B[0mresults\u001B[0m\u001B[0;34m:\u001B[0m\u001B[0;34m\u001B[0m\u001B[0;34m\u001B[0m\u001B[0m\n\u001B[0;32m---> 12\u001B[0;31m     \u001B[0;32mif\u001B[0m \u001B[0mr\u001B[0m\u001B[0;34m[\u001B[0m\u001B[0;36m0\u001B[0m\u001B[0;34m]\u001B[0m\u001B[0;34m[\u001B[0m\u001B[0;36m2\u001B[0m\u001B[0;34m]\u001B[0m \u001B[0;34m==\u001B[0m \u001B[0;36m0\u001B[0m\u001B[0;34m:\u001B[0m\u001B[0;34m\u001B[0m\u001B[0;34m\u001B[0m\u001B[0m\n\u001B[0m\u001B[1;32m     13\u001B[0m         \u001B[0mlat\u001B[0m \u001B[0;34m=\u001B[0m \u001B[0mr\u001B[0m\u001B[0;34m[\u001B[0m\u001B[0;36m0\u001B[0m\u001B[0;34m]\u001B[0m\u001B[0;34m[\u001B[0m\u001B[0;36m0\u001B[0m\u001B[0;34m]\u001B[0m\u001B[0;34m\u001B[0m\u001B[0;34m\u001B[0m\u001B[0m\n\u001B[1;32m     14\u001B[0m         \u001B[0mlon\u001B[0m \u001B[0;34m=\u001B[0m \u001B[0mr\u001B[0m\u001B[0;34m[\u001B[0m\u001B[0;36m0\u001B[0m\u001B[0;34m]\u001B[0m\u001B[0;34m[\u001B[0m\u001B[0;36m1\u001B[0m\u001B[0;34m]\u001B[0m\u001B[0;34m\u001B[0m\u001B[0;34m\u001B[0m\u001B[0m\n",
      "\u001B[0;31mTypeError\u001B[0m: 'int' object is not subscriptable"
     ]
    }
   ],
   "source": [
    "results[1] = [0,0,1]\n",
    "# print('CPUs: ' + str(mp.cpu_count()))\n",
    "#\n",
    "# pool = mp.Pool(processes=mp.cpu_count())\n",
    "# results = pool.map(point_loop, [file for file in files])\n",
    "# pool.close()\n",
    "\n",
    "j2h2F = np.zeros((19,37))\n",
    "j2h2i_bg1_F = np.zeros((19,37))\n",
    "j2h2i_bg2_F = np.zeros((19,37))\n",
    "\n",
    "for r in results:\n",
    "    if r[0][2] == 0:\n",
    "        lat = r[0][0]\n",
    "        lon = r[0][1]\n",
    "        j2h2F[lat,lon] = r[1][0]\n",
    "        j2h2i_bg1_F[lat,lon] = r[1][1]\n",
    "        j2h2i_bg2_F[lat,lon] = r[1][2]\n",
    "\n",
    "lats = np.arange(-90,91,10)\n",
    "lons = np.arange(-180,181,10)\n",
    "test = xr.Dataset(\n",
    "    {'j2h2': (('lon','lat'), j2h2F.transpose()),\n",
    "    'j2h2-bg1': (('lon','lat'), j2h2i_bg1_F.transpose()),\n",
    "    'j2h2-bg2': (('lon','lat'), j2h2i_bg2_F.transpose())},\n",
    "    coords = {\n",
    "        'lon': lons,\n",
    "        'lat': lats,\n",
    "    },\n",
    ")\n",
    "test['lat'].attrs['units'] = 'degrees_north'\n",
    "test['lon'].attrs['units'] = 'degrees_east'\n",
    "test['j2h2'].attrs['units'] = '(g)/(day*m^2)'\n",
    "test['j2h2-bg1'].attrs['units'] = 'nm'\n",
    "test['j2h2-bg2'].attrs['units'] = 'nm'\n",
    "\n",
    "test['j2h2'] = test['j2h2'].where(test['j2h2'] != 0.0)\n",
    "test['j2h2-bg1'] = test['j2h2-bg1'].where(test['j2h2-bg1'] != 0.0)\n",
    "test['j2h2-bg2'] = test['j2h2-bg2'].where(test['j2h2-bg2'] != 0.0)\n",
    "\n",
    "\n",
    "test.to_netcdf('j2h2_fix.nc')"
   ],
   "metadata": {
    "collapsed": false,
    "pycharm": {
     "name": "#%%\n"
    }
   }
  },
  {
   "cell_type": "code",
   "execution_count": 22,
   "outputs": [
    {
     "data": {
      "text/plain": "[[[<xarray.DataArray 'lat' ()>\n   array(0),\n   <xarray.DataArray 'lon' ()>\n   array(17),\n   0],\n  [36.23225871059901, array(1.51), array(1.62)]],\n 0]"
     },
     "execution_count": 22,
     "metadata": {},
     "output_type": "execute_result"
    }
   ],
   "source": [
    "results"
   ],
   "metadata": {
    "collapsed": false,
    "pycharm": {
     "name": "#%%\n"
    }
   }
  },
  {
   "cell_type": "code",
   "execution_count": 24,
   "outputs": [
    {
     "data": {
      "text/plain": "[[[<xarray.DataArray 'lat' ()>\n   array(10),\n   <xarray.DataArray 'lon' ()>\n   array(0),\n   0],\n  [124.08336161963372, array(1.65), array(1.79)]],\n 0]"
     },
     "execution_count": 24,
     "metadata": {},
     "output_type": "execute_result"
    }
   ],
   "source": [
    "results"
   ],
   "metadata": {
    "collapsed": false,
    "pycharm": {
     "name": "#%%\n"
    }
   }
  },
  {
   "cell_type": "code",
   "execution_count": 30,
   "outputs": [
    {
     "data": {
      "text/plain": "array([371.85494175, 397.20144076, 421.59393554, 445.2690196 ,\n       468.48222144, 491.49867633, 640.04956588, 668.59949549])"
     },
     "execution_count": 30,
     "metadata": {},
     "output_type": "execute_result"
    }
   ],
   "source": [
    "ls2sol(np.unique(ds['ls'] * 15))"
   ],
   "metadata": {
    "collapsed": false,
    "pycharm": {
     "name": "#%%\n"
    }
   }
  },
  {
   "cell_type": "code",
   "execution_count": 33,
   "outputs": [
    {
     "data": {
      "text/plain": "<xarray.DataArray 'ls' (record: 82)>\narray([12, 12, 12, 12, 12, 12, 12, 12, 12, 12, 12, 12, 12, 13, 13, 13, 13, 13,\n       13, 13, 13, 13, 13, 13, 13, 13, 14, 14, 14, 14, 14, 14, 14, 14, 14, 14,\n       14, 14, 14, 15, 15, 15, 15, 15, 15, 15, 15, 15, 15, 15, 15, 15, 16, 16,\n       16, 16, 16, 16, 16, 16, 16, 16, 16, 16, 16, 17, 17, 17, 17, 23, 23, 23,\n       23, 23, 23, 23, 23, 23, 23, 23, 23, 24])\nDimensions without coordinates: record",
      "text/html": "<pre>&lt;xarray.DataArray &#x27;ls&#x27; (record: 82)&gt;\narray([12, 12, 12, 12, 12, 12, 12, 12, 12, 12, 12, 12, 12, 13, 13, 13, 13, 13,\n       13, 13, 13, 13, 13, 13, 13, 13, 14, 14, 14, 14, 14, 14, 14, 14, 14, 14,\n       14, 14, 14, 15, 15, 15, 15, 15, 15, 15, 15, 15, 15, 15, 15, 15, 16, 16,\n       16, 16, 16, 16, 16, 16, 16, 16, 16, 16, 16, 17, 17, 17, 17, 23, 23, 23,\n       23, 23, 23, 23, 23, 23, 23, 23, 23, 24])\nDimensions without coordinates: record</pre>"
     },
     "execution_count": 33,
     "metadata": {},
     "output_type": "execute_result"
    }
   ],
   "source": [
    "ds['ls']"
   ],
   "metadata": {
    "collapsed": false,
    "pycharm": {
     "name": "#%%\n"
    }
   }
  },
  {
   "cell_type": "code",
   "execution_count": 34,
   "outputs": [
    {
     "data": {
      "text/plain": "<xarray.Dataset>\nDimensions:                (j1-bg: 261, j2-bg1: 181, j2-bg2: 81, j3-bg1: 151, j3-bg2: 51, j3-bg3: 61, record: 82, wl: 1341)\nCoordinates:\n  * wl                     (wl) float64 300.5 301.5 302.5 ... 3.98e+03 4e+03\n  * j1-bg                  (j1-bg) float64 0.4 0.41 0.42 0.43 ... 2.98 2.99 3.0\n  * j2-bg1                 (j2-bg1) float64 1.2 1.21 1.22 1.23 ... 2.98 2.99 3.0\n  * j2-bg2                 (j2-bg2) float64 0.4 0.41 0.42 0.43 ... 1.18 1.19 1.2\n  * j3-bg1                 (j3-bg1) float64 1.5 1.51 1.52 1.53 ... 2.98 2.99 3.0\n  * j3-bg2                 (j3-bg2) float64 1.0 1.01 1.02 1.03 ... 1.48 1.49 1.5\n  * j3-bg3                 (j3-bg3) float64 0.4 0.41 0.42 0.43 ... 0.98 0.99 1.0\nDimensions without coordinates: record\nData variables:\n    lat                    (record) int64 0 0 0 0 0 0 0 0 0 ... 0 0 0 0 0 0 0 0\n    lon                    (record) int64 17 17 17 17 17 17 ... 17 17 17 17 17\n    ls                     (record) int64 12 12 12 12 12 12 ... 23 23 23 23 24\n    hr                     (record) int64 0 1 2 3 4 5 6 7 ... 5 6 7 9 10 11 12 0\n    edir                   (record, wl) float64 ...\n    edn                    (record, wl) float64 ...\n    eup                    (record, wl) float64 ...\n    eglo                   (record, wl) float64 ...\n    mcd_lrt_error          (record) float64 ...\n    j1_etaPV               (record, j1-bg) float64 ...\n    j1_etaPEC_H2           (record, j1-bg) float64 ...\n    j1_etaPEC_NH3          (record, j1-bg) float64 ...\n    j1_etaPEC_AA           (record, j1-bg) float64 ...\n    j1_max_etaPV           (record) float64 ...\n    j1_max_etaPEC_H2       (record) float64 ...\n    j1_max_etaPEC_NH3      (record) float64 ...\n    j1_max_etaPEC_AA       (record) float64 ...\n    j1_bg_PVmax            (record) float64 ...\n    j1_bg_H2max            (record) float64 ...\n    j1_bg_NH3max           (record) float64 ...\n    j1_bg_AAmax            (record) float64 ...\n    j2_etaPV_2bg           (record, j2-bg1, j2-bg2) float64 ...\n    j2_etaPEC_H2_2bg       (record, j2-bg1, j2-bg2) float64 ...\n    j2_etaPEC_NH3_2bg      (record, j2-bg1, j2-bg2) float64 ...\n    j2_etaPEC_AA_2bg       (record, j2-bg1, j2-bg2) float64 ...\n    j2_max_etaPV_2bg       (record) float64 ...\n    j2_max_etaPEC_H2_2bg   (record) float64 ...\n    j2_max_etaPEC_NH3_2bg  (record) float64 ...\n    j2_max_etaPEC_AA_2bg   (record) float64 ...\n    j2_bg1_PVmax           (record) float64 ...\n    j2_bg2_PVmax           (record) float64 ...\n    j2_bg1_H2max           (record) float64 ...\n    j2_bg2_H2max           (record) float64 ...\n    j2_bg1_NH3max          (record) float64 ...\n    j2_bg2_NH3max          (record) float64 ...\n    j2_bg1_AAmax           (record) float64 ...\n    j2_bg2_AAmax           (record) float64 ...\n    j3_etaPV_3bg           (record, j3-bg1, j3-bg2, j3-bg3) float64 ...\n    j3_max_etaPV_3bg       (record) float64 ...\n    j3_bg1max              (record) float64 ...\n    j3_bg2max              (record) float64 ...\n    j3_bg3max              (record) float64 ...\nAttributes:\n    history:                   Tue Jul 27 20:32:21 2021: ncecat ttlrecall_012...\n    NCO:                       \"4.6.4\"\n    nco_openmp_thread_number:  1",
      "text/html": "<pre>&lt;xarray.Dataset&gt;\nDimensions:                (j1-bg: 261, j2-bg1: 181, j2-bg2: 81, j3-bg1: 151, j3-bg2: 51, j3-bg3: 61, record: 82, wl: 1341)\nCoordinates:\n  * wl                     (wl) float64 300.5 301.5 302.5 ... 3.98e+03 4e+03\n  * j1-bg                  (j1-bg) float64 0.4 0.41 0.42 0.43 ... 2.98 2.99 3.0\n  * j2-bg1                 (j2-bg1) float64 1.2 1.21 1.22 1.23 ... 2.98 2.99 3.0\n  * j2-bg2                 (j2-bg2) float64 0.4 0.41 0.42 0.43 ... 1.18 1.19 1.2\n  * j3-bg1                 (j3-bg1) float64 1.5 1.51 1.52 1.53 ... 2.98 2.99 3.0\n  * j3-bg2                 (j3-bg2) float64 1.0 1.01 1.02 1.03 ... 1.48 1.49 1.5\n  * j3-bg3                 (j3-bg3) float64 0.4 0.41 0.42 0.43 ... 0.98 0.99 1.0\nDimensions without coordinates: record\nData variables:\n    lat                    (record) int64 0 0 0 0 0 0 0 0 0 ... 0 0 0 0 0 0 0 0\n    lon                    (record) int64 17 17 17 17 17 17 ... 17 17 17 17 17\n    ls                     (record) int64 12 12 12 12 12 12 ... 23 23 23 23 24\n    hr                     (record) int64 0 1 2 3 4 5 6 7 ... 5 6 7 9 10 11 12 0\n    edir                   (record, wl) float64 ...\n    edn                    (record, wl) float64 ...\n    eup                    (record, wl) float64 ...\n    eglo                   (record, wl) float64 ...\n    mcd_lrt_error          (record) float64 ...\n    j1_etaPV               (record, j1-bg) float64 ...\n    j1_etaPEC_H2           (record, j1-bg) float64 ...\n    j1_etaPEC_NH3          (record, j1-bg) float64 ...\n    j1_etaPEC_AA           (record, j1-bg) float64 ...\n    j1_max_etaPV           (record) float64 ...\n    j1_max_etaPEC_H2       (record) float64 ...\n    j1_max_etaPEC_NH3      (record) float64 ...\n    j1_max_etaPEC_AA       (record) float64 ...\n    j1_bg_PVmax            (record) float64 ...\n    j1_bg_H2max            (record) float64 ...\n    j1_bg_NH3max           (record) float64 ...\n    j1_bg_AAmax            (record) float64 ...\n    j2_etaPV_2bg           (record, j2-bg1, j2-bg2) float64 ...\n    j2_etaPEC_H2_2bg       (record, j2-bg1, j2-bg2) float64 ...\n    j2_etaPEC_NH3_2bg      (record, j2-bg1, j2-bg2) float64 ...\n    j2_etaPEC_AA_2bg       (record, j2-bg1, j2-bg2) float64 ...\n    j2_max_etaPV_2bg       (record) float64 ...\n    j2_max_etaPEC_H2_2bg   (record) float64 ...\n    j2_max_etaPEC_NH3_2bg  (record) float64 ...\n    j2_max_etaPEC_AA_2bg   (record) float64 ...\n    j2_bg1_PVmax           (record) float64 ...\n    j2_bg2_PVmax           (record) float64 ...\n    j2_bg1_H2max           (record) float64 ...\n    j2_bg2_H2max           (record) float64 ...\n    j2_bg1_NH3max          (record) float64 ...\n    j2_bg2_NH3max          (record) float64 ...\n    j2_bg1_AAmax           (record) float64 ...\n    j2_bg2_AAmax           (record) float64 ...\n    j3_etaPV_3bg           (record, j3-bg1, j3-bg2, j3-bg3) float64 ...\n    j3_max_etaPV_3bg       (record) float64 ...\n    j3_bg1max              (record) float64 ...\n    j3_bg2max              (record) float64 ...\n    j3_bg3max              (record) float64 ...\nAttributes:\n    history:                   Tue Jul 27 20:32:21 2021: ncecat ttlrecall_012...\n    NCO:                       &quot;4.6.4&quot;\n    nco_openmp_thread_number:  1</pre>"
     },
     "execution_count": 34,
     "metadata": {},
     "output_type": "execute_result"
    }
   ],
   "source": [
    "\n",
    "ds"
   ],
   "metadata": {
    "collapsed": false,
    "pycharm": {
     "name": "#%%\n"
    }
   }
  },
  {
   "cell_type": "code",
   "execution_count": 35,
   "outputs": [],
   "source": [
    "\n",
    "file = 'redsun_timeseries_00_10.nc'\n",
    "sg = xr.open_dataset('StupidGridFull.nc', group='flux')\n",
    "ds = xr.open_dataset(file)\n",
    "lat = ds['lat'][0]\n",
    "lon = ds['lon'][0]\n",
    "G = np.zeros(len(ds['lon']))\n",
    "for ri in range(0,len(ds['lon'])):\n",
    "    ls = ds['ls'][ri]\n",
    "    hr = ds['hr'][ri]\n",
    "    G[ri] = sg['flux_dw_sw'][lat,lon,ls,hr]\n",
    "lss = np.unique(ds['ls'])"
   ],
   "metadata": {
    "collapsed": false,
    "pycharm": {
     "name": "#%%\n"
    }
   }
  },
  {
   "cell_type": "code",
   "execution_count": 39,
   "outputs": [
    {
     "data": {
      "text/plain": "array([ 0,  1,  2,  3,  4,  5,  6,  7,  8,  9, 10, 11, 12, 13, 14, 15, 16,\n       17, 18, 19, 20, 21, 22, 23, 24])"
     },
     "execution_count": 39,
     "metadata": {},
     "output_type": "execute_result"
    }
   ],
   "source": [
    "lss"
   ],
   "metadata": {
    "collapsed": false,
    "pycharm": {
     "name": "#%%\n"
    }
   }
  },
  {
   "cell_type": "code",
   "execution_count": null,
   "outputs": [],
   "source": [],
   "metadata": {
    "collapsed": false,
    "pycharm": {
     "name": "#%%\n"
    }
   }
  }
 ],
 "metadata": {
  "kernelspec": {
   "display_name": "Python 3",
   "language": "python",
   "name": "python3"
  },
  "language_info": {
   "codemirror_mode": {
    "name": "ipython",
    "version": 2
   },
   "file_extension": ".py",
   "mimetype": "text/x-python",
   "name": "python",
   "nbconvert_exporter": "python",
   "pygments_lexer": "ipython2",
   "version": "2.7.6"
  }
 },
 "nbformat": 4,
 "nbformat_minor": 0
}