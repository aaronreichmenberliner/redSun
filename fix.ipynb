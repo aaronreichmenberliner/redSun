{
 "cells": [
  {
   "cell_type": "code",
   "execution_count": 1,
   "metadata": {
    "pycharm": {
     "is_executing": true
    }
   },
   "outputs": [],
   "source": [
    "\n",
    "import numpy as np\n",
    "import matplotlib.pyplot as plt\n",
    "import xarray as xr\n",
    "import glob\n",
    "import h5py\n",
    "\n",
    "def ls2sol(ls):\n",
    "    N_s = 668.6\n",
    "    ls_peri = 250.99\n",
    "    t_peri = 485.35\n",
    "    a = 1.52368\n",
    "    e = 0.09340\n",
    "    epsilon = 25.1919\n",
    "    if (ls == 0).any():\n",
    "        ls = .01\n",
    "    nu = np.radians(ls) + 1.90258\n",
    "    E = np.arctan((np.tan(nu/2))/(np.sqrt((1+e)/(1-e))))*2\n",
    "    M = E - e*np.sin(E)\n",
    "    Ds = (M/(2*np.pi))*N_s + t_peri\n",
    "    if (Ds < 0).any():\n",
    "        Ds = Ds + N_s\n",
    "    if (Ds > N_s).any():\n",
    "        Ds = Ds - N_s\n",
    "    return(Ds)\n",
    "\n",
    "sg = xr.open_dataset('StupidGridFull.nc', group='flux')\n",
    "files = ['redsun_timeseries_17_00.nc', 'redsun_timeseries_17_10.nc']\n",
    "\n",
    "j2AAF = np.zeros((19,37))\n",
    "j2AAi_bg1_F = np.zeros((19,37))\n",
    "j2AAi_bg2_F = np.zeros((19,37))\n",
    "\n",
    "for file in files:\n",
    "    ds = xr.open_dataset(file)\n",
    "    lat = ds['lat'][0]\n",
    "    lon = ds['lon'][0]\n",
    "    G = np.zeros(len(ds['lon']))\n",
    "    for ri in range(0,len(ds['lon'])):\n",
    "        ls = ds['ls'][ri]\n",
    "        hr = ds['hr'][ri]\n",
    "        G[ri] = sg['flux_dw_sw'][lat,lon,ls,hr]\n",
    "    lss = np.unique(ds['ls'])\n",
    "\n",
    "    Z = 2.016\n",
    "    n = 2\n",
    "    F = 96485.33212\n",
    "    P = G[:, np.newaxis, np.newaxis] * ds['j2_etaPEC_AA_2bg'] * Z/(n*F)\n",
    "    zz = np.zeros((len(lss),len(ds['j2-bg1']),len(ds['j2-bg2'])))\n",
    "    for i in range(0,len(lss)):\n",
    "        hr_int = np.where(ds['ls']==lss[i])\n",
    "        x = np.array(ds['hr'][hr_int] * 2 * 1.02569 * 60 * 60)\n",
    "        for j in range(0,len(ds['j2-bg1'])):\n",
    "            for k in range(0,len(ds['j2-bg2'])):\n",
    "                y = P[:,j,k][hr_int]\n",
    "                z = np.trapz(y,x=x)\n",
    "                zz[i,j,k] = z\n",
    "    z = np.zeros((len(ds['j2-bg1']),len(ds['j2-bg2'])))\n",
    "    x = ls2sol(lss) * 1.02569 * 24 * 60 * 60\n",
    "    for j in range(0,len(ds['j2-bg1'])):\n",
    "        for k in range(0,len(ds['j2-bg2'])):\n",
    "            y = zz[:,j,k]\n",
    "            z[j,k] = np.trapz(y,x=lss)\n",
    "    j2AA = np.max(z)\n",
    "    j2AAi = np.unravel_index(np.argmax(z),np.shape(z), order='C')\n",
    "\n",
    "    j2AAF[lat,lon] = j2AA * (1/688)\n",
    "    j2AAi_bg1_F[lat,lon] = ds['j2-bg1'][j2AAi[0]]\n",
    "    j2AAi_bg2_F[lat,lon] = ds['j2-bg1'][j2AAi[1]]\n",
    "\n",
    "lats = np.arange(-90,91,10)\n",
    "lons = np.arange(-180,181,10)\n",
    "test = xr.Dataset(\n",
    "    {'j2AA': (('lon','lat'), j2AAF.transpose()),\n",
    "    'j2AA-bg1': (('lon','lat'), j2AAi_bg1_F.transpose()),\n",
    "    'j2AA-bg2': (('lon','lat'), j2AAi_bg2_F.transpose())},\n",
    "    coords = {\n",
    "        'lon': lons,\n",
    "        'lat': lats,\n",
    "    },\n",
    ")\n",
    "test['lat'].attrs['units'] = 'degrees_north'\n",
    "test['lon'].attrs['units'] = 'degrees_east'\n",
    "test['j2AA'].attrs['units'] = '(g)/(day*m^2)'\n",
    "test['j2AA-bg1'].attrs['units'] = 'eV'\n",
    "test['j2AA-bg2'].attrs['units'] = 'eV'\n",
    "\n",
    "test['j2AA'] = test['j2AA'].where(test['j2AA'] != 0.0)\n",
    "test['j2AA-bg1'] = test['j2AA-bg1'].where(test['j2AA-bg1'] != 0.0)\n",
    "test['j2AA-bg2'] = test['j2AA-bg2'].where(test['j2AA-bg2'] != 0.0)\n",
    "\n",
    "\n",
    "test.to_netcdf('j2AA.nc')"
   ]
  },
  {
   "cell_type": "code",
   "execution_count": 2,
   "metadata": {
    "pycharm": {
     "is_executing": true,
     "name": "#%%\n"
    }
   },
   "outputs": [
    {
     "data": {
      "text/plain": [
       "<xarray.Dataset>\n",
       "Dimensions:   (lat: 19, lon: 37)\n",
       "Coordinates:\n",
       "  * lon       (lon) int64 -180 -170 -160 -150 -140 -130 ... 140 150 160 170 180\n",
       "  * lat       (lat) int64 -90 -80 -70 -60 -50 -40 -30 ... 30 40 50 60 70 80 90\n",
       "Data variables:\n",
       "    j2AA      (lon, lat) float64 nan nan nan nan nan nan ... nan nan nan nan nan\n",
       "    j2AA-bg1  (lon, lat) float64 nan nan nan nan nan nan ... nan nan nan nan nan\n",
       "    j2AA-bg2  (lon, lat) float64 nan nan nan nan nan nan ... nan nan nan nan nan"
      ]
     },
     "execution_count": 2,
     "metadata": {},
     "output_type": "execute_result"
    }
   ],
   "source": [
    "test"
   ]
  },
  {
   "cell_type": "code",
   "execution_count": 4,
   "metadata": {
    "pycharm": {
     "name": "#%%\n"
    }
   },
   "outputs": [
    {
     "name": "stderr",
     "output_type": "stream",
     "text": [
      "/Users/aaronberliner/anaconda3/lib/python3.6/site-packages/xarray/coding/times.py:419: SerializationWarning: Unable to decode time axis into full numpy.datetime64 objects, continuing using cftime.datetime objects instead, reason: dates out of range\n",
      "  self.use_cftime)\n",
      "/Users/aaronberliner/anaconda3/lib/python3.6/site-packages/numpy/core/_asarray.py:83: SerializationWarning: Unable to decode time axis into full numpy.datetime64 objects, continuing using cftime.datetime objects instead, reason: dates out of range\n",
      "  return array(a, dtype, copy=False, order=order)\n"
     ]
    }
   ],
   "source": [
    "ds =  xr.open_dataset('StupidGridFullDustStorm.nc')"
   ]
  },
  {
   "cell_type": "code",
   "execution_count": 18,
   "metadata": {},
   "outputs": [
    {
     "data": {
      "text/plain": [
       "<xarray.DataArray 'aerolongitudes' (ls: 99)>\n",
       "array([180.27612, 182.02138, 183.77563, 185.53888, 187.31104, 189.09206,\n",
       "       190.88185, 192.68034, 194.48743, 196.303  , 198.12692, 199.95908,\n",
       "       201.79929, 203.64743, 205.5033 , 207.3667 , 209.23746, 211.11536,\n",
       "       213.00015, 214.8916 , 216.78947, 218.6935 , 220.6034 , 222.51886,\n",
       "       224.43962, 226.36536, 228.29575, 230.23047, 232.16917, 234.11153,\n",
       "       236.05716, 238.00572, 239.95683, 241.91011, 243.8652 , 245.82172,\n",
       "       247.77925, 249.73744, 251.69586, 253.65416, 255.61192, 257.5688 ,\n",
       "       259.52432, 261.47815, 263.42993, 265.37927, 267.3258 , 269.26913,\n",
       "       271.20892, 273.14484, 275.0765 , 277.00363, 278.92587, 280.8429 ,\n",
       "       282.75443, 284.6602 , 286.55984, 288.4532 , 290.33994, 292.21985,\n",
       "       294.0927 , 295.95825, 297.81635, 299.66672, 301.50925, 303.34375,\n",
       "       305.17007, 306.98807, 308.79764, 310.5986 , 312.39093, 314.1745 ,\n",
       "       315.94922, 317.71506, 319.47192, 321.2198 , 322.95862, 324.6884 ,\n",
       "       326.40906, 328.12067, 329.8232 , 331.5167 , 333.20114, 334.8766 ,\n",
       "       336.5431 , 338.20065, 339.84937, 341.4893 , 343.12048, 344.743  ,\n",
       "       346.357  , 347.96246, 349.55957, 351.14838, 352.72897, 354.30148,\n",
       "       355.86603, 357.4227 , 358.97162], dtype=float32)\n",
       "Dimensions without coordinates: ls\n",
       "Attributes:\n",
       "    units:    deg"
      ]
     },
     "execution_count": 18,
     "metadata": {},
     "output_type": "execute_result"
    }
   ],
   "source": [
    "ds['aerolongitudes']"
   ]
  },
  {
   "cell_type": "code",
   "execution_count": 34,
   "metadata": {},
   "outputs": [],
   "source": [
    "a = np.floor(np.linspace(0,98,13))"
   ]
  },
  {
   "cell_type": "code",
   "execution_count": 39,
   "metadata": {},
   "outputs": [
    {
     "data": {
      "text/plain": [
       "<xarray.Dataset>\n",
       "Dimensions:         (lat: 19, level: 20, lon: 37, ls: 99, time: 13, wl: 1341)\n",
       "Coordinates:\n",
       "  * time            (time) object 0001-01-01 00:00:00 ... 0001-01-02 00:00:00\n",
       "Dimensions without coordinates: lat, level, lon, ls, wl\n",
       "Data variables:\n",
       "    altitude        (level) float32 ...\n",
       "    latitude        (lat) float32 ...\n",
       "    longitude       (lon) float32 ...\n",
       "    aerolongitudes  (ls) float32 180.27612 182.02138 ... 357.4227 358.97162\n",
       "    wavelength      (wl) float32 ...\n",
       "    albedo          (lat, lon) float32 ..."
      ]
     },
     "execution_count": 39,
     "metadata": {},
     "output_type": "execute_result"
    }
   ],
   "source": [
    "ds"
   ]
  },
  {
   "cell_type": "code",
   "execution_count": 23,
   "metadata": {},
   "outputs": [
    {
     "data": {
      "text/plain": [
       "<xarray.Dataset>\n",
       "Dimensions:         (lat: 19, level: 20, lon: 37, ls: 99, time: 13, wl: 1341)\n",
       "Coordinates:\n",
       "  * time            (time) object 0001-01-01 00:00:00 ... 0001-01-02 00:00:00\n",
       "Dimensions without coordinates: lat, level, lon, ls, wl\n",
       "Data variables:\n",
       "    altitude        (level) float32 ...\n",
       "    latitude        (lat) float32 ...\n",
       "    longitude       (lon) float32 ...\n",
       "    aerolongitudes  (ls) float32 180.27612 182.02138 ... 357.4227 358.97162\n",
       "    wavelength      (wl) float32 ...\n",
       "    albedo          (lat, lon) float32 ..."
      ]
     },
     "execution_count": 23,
     "metadata": {},
     "output_type": "execute_result"
    }
   ],
   "source": [
    "ds"
   ]
  },
  {
   "cell_type": "code",
   "execution_count": 25,
   "metadata": {},
   "outputs": [
    {
     "data": {
      "text/plain": [
       "{'ls': array([ 0.,  8., 16., 25., 33., 41., 50., 58., 66., 74., 82., 91., 99.])}"
      ]
     },
     "execution_count": 25,
     "metadata": {},
     "output_type": "execute_result"
    }
   ],
   "source": [
    "dict(ls=np.round(np.linspace(0,99,13)))"
   ]
  },
  {
   "cell_type": "code",
   "execution_count": 26,
   "metadata": {},
   "outputs": [
    {
     "data": {
      "text/plain": [
       "<xarray.DataArray 'ls' (ls: 99)>\n",
       "array([ 0,  1,  2,  3,  4,  5,  6,  7,  8,  9, 10, 11, 12, 13, 14, 15, 16, 17,\n",
       "       18, 19, 20, 21, 22, 23, 24, 25, 26, 27, 28, 29, 30, 31, 32, 33, 34, 35,\n",
       "       36, 37, 38, 39, 40, 41, 42, 43, 44, 45, 46, 47, 48, 49, 50, 51, 52, 53,\n",
       "       54, 55, 56, 57, 58, 59, 60, 61, 62, 63, 64, 65, 66, 67, 68, 69, 70, 71,\n",
       "       72, 73, 74, 75, 76, 77, 78, 79, 80, 81, 82, 83, 84, 85, 86, 87, 88, 89,\n",
       "       90, 91, 92, 93, 94, 95, 96, 97, 98])\n",
       "Dimensions without coordinates: ls"
      ]
     },
     "execution_count": 26,
     "metadata": {},
     "output_type": "execute_result"
    }
   ],
   "source": [
    "ds['ls']"
   ]
  },
  {
   "cell_type": "code",
   "execution_count": 58,
   "metadata": {},
   "outputs": [],
   "source": [
    "a = np.floor(np.linspace(0,98,13)).astype(int)\n",
    "b = ds.isel(ls=a)"
   ]
  },
  {
   "cell_type": "code",
   "execution_count": 61,
   "metadata": {},
   "outputs": [],
   "source": [
    "b.to_netcdf('StupidGridDustCor.nc')"
   ]
  },
  {
   "cell_type": "code",
   "execution_count": null,
   "metadata": {},
   "outputs": [],
   "source": []
  }
 ],
 "metadata": {
  "kernelspec": {
   "display_name": "Python 3",
   "language": "python",
   "name": "python3"
  },
  "language_info": {
   "codemirror_mode": {
    "name": "ipython",
    "version": 3
   },
   "file_extension": ".py",
   "mimetype": "text/x-python",
   "name": "python",
   "nbconvert_exporter": "python",
   "pygments_lexer": "ipython3",
   "version": "3.6.7"
  }
 },
 "nbformat": 4,
 "nbformat_minor": 1
}